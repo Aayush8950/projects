{
 "cells": [
  {
   "cell_type": "markdown",
   "id": "49a8c55b",
   "metadata": {},
   "source": [
    "# 1 . how many campaign available in this dataset ."
   ]
  },
  {
   "cell_type": "code",
   "execution_count": 4,
   "id": "45799220",
   "metadata": {},
   "outputs": [
    {
     "data": {
      "text/plain": [
       "12630"
      ]
     },
     "execution_count": 4,
     "metadata": {},
     "output_type": "execute_result"
    }
   ],
   "source": [
    "a=dataset['campaign']\n",
    "def f_total_c():\n",
    "    q=0\n",
    "    for i in a:\n",
    "        q+=i\n",
    "    return q\n",
    "f_total_c()"
   ]
  },
  {
   "cell_type": "markdown",
   "id": "4cc5720c",
   "metadata": {},
   "source": [
    "# 2 . how many users do we have with housing and personal loan ."
   ]
  },
  {
   "cell_type": "code",
   "execution_count": 5,
   "id": "305ff981",
   "metadata": {},
   "outputs": [],
   "source": [
    "w=dataset[\"housing\"]"
   ]
  },
  {
   "cell_type": "code",
   "execution_count": 6,
   "id": "3f2395b1",
   "metadata": {},
   "outputs": [],
   "source": [
    "q=dataset[\"loan\"]"
   ]
  },
  {
   "cell_type": "code",
   "execution_count": 21,
   "id": "a06fb264",
   "metadata": {},
   "outputs": [
    {
     "data": {
      "text/plain": [
       "406"
      ]
     },
     "execution_count": 21,
     "metadata": {},
     "output_type": "execute_result"
    }
   ],
   "source": [
    "ta=[]\n",
    "for i in range(0,4521):\n",
    "    if w[i]==\"yes\" and q[i]==\"yes\" :\n",
    "        ta.append(i)\n",
    "    else:\n",
    "        pass\n",
    "len(ta)        \n",
    "        \n",
    "        \n",
    "        "
   ]
  },
  {
   "cell_type": "markdown",
   "id": "d7c5b82d",
   "metadata": {},
   "source": [
    "# 3. how many person do we have whose age is 60+ ."
   ]
  },
  {
   "cell_type": "code",
   "execution_count": 24,
   "id": "accdf69c",
   "metadata": {},
   "outputs": [],
   "source": [
    "age=dataset[\"age\"]"
   ]
  },
  {
   "cell_type": "code",
   "execution_count": 26,
   "id": "92d8edf1",
   "metadata": {},
   "outputs": [
    {
     "data": {
      "text/plain": [
       "127"
      ]
     },
     "execution_count": 26,
     "metadata": {},
     "output_type": "execute_result"
    }
   ],
   "source": [
    "tb=[]\n",
    "for i in age:\n",
    "    if i>60:\n",
    "        tb.append(i)\n",
    "len(tb)\n",
    "        "
   ]
  },
  {
   "cell_type": "markdown",
   "id": "db926e79",
   "metadata": {},
   "source": [
    "# 4 . in which month we have trageted most of the customer ."
   ]
  },
  {
   "cell_type": "code",
   "execution_count": 30,
   "id": "7fc788d9",
   "metadata": {},
   "outputs": [],
   "source": [
    "m=dataset[\"month\"]"
   ]
  },
  {
   "cell_type": "code",
   "execution_count": 40,
   "id": "2ebd4ab4",
   "metadata": {},
   "outputs": [
    {
     "name": "stdout",
     "output_type": "stream",
     "text": [
      "jan 148\n",
      "feb 222\n",
      "mar 49\n",
      "apr 293\n",
      "may 1398\n",
      "jun 531\n",
      "jul 706\n",
      "aug 633\n",
      "sep 52\n",
      "oct 80\n",
      "nov 389\n",
      "dec 20\n"
     ]
    }
   ],
   "source": [
    "t1=[]\n",
    "t2=[]\n",
    "t3=[]\n",
    "t4=[]\n",
    "t5=[]\n",
    "t6=[]\n",
    "t7=[]\n",
    "t8=[]\n",
    "t9=[]\n",
    "t10=[]\n",
    "t11=[]\n",
    "t12=[]\n",
    "\n",
    "for i in m:\n",
    "    if i==\"jan\":\n",
    "        t1.append(i)\n",
    "print(\"jan\",len(t1))\n",
    "\n",
    "t2=[]\n",
    "for i in m:\n",
    "    if i==\"feb\":\n",
    "        t2.append(i)\n",
    "print(\"feb\",len(t2))\n",
    "\n",
    "t3=[]\n",
    "for i in m:\n",
    "    if i==\"mar\":\n",
    "        t3.append(i)\n",
    "print(\"mar\",len(t3))\n",
    "\n",
    "t4=[]\n",
    "for i in m:\n",
    "    if i==\"apr\":\n",
    "        t4.append(i)\n",
    "print(\"apr\",len(t4))\n",
    "\n",
    "\n",
    "t5=[]\n",
    "for i in m:\n",
    "    if i==\"may\":\n",
    "        t5.append(i)\n",
    "print(\"may\",len(t5))\n",
    "\n",
    "t6=[]\n",
    "for i in m:\n",
    "    if i==\"jun\":\n",
    "        t6.append(i)\n",
    "print(\"jun\",len(t6))\n",
    "\n",
    "t7=[]\n",
    "for i in m:\n",
    "    if i==\"jul\":\n",
    "        t7.append(i)\n",
    "print(\"jul\",len(t7))\n",
    "\n",
    "t8=[]\n",
    "for i in m:\n",
    "    if i==\"aug\":\n",
    "        t8.append(i)\n",
    "print(\"aug\",len(t8))\n",
    "\n",
    "\n",
    "t9=[]\n",
    "for i in m:\n",
    "    if i==\"sep\":\n",
    "        t9.append(i)\n",
    "print(\"sep\",len(t9))\n",
    "\n",
    "t10=[]\n",
    "for i in m:\n",
    "    if i==\"oct\":\n",
    "        t10.append(i)\n",
    "print(\"oct\",len(t10))\n",
    "\n",
    "t11=[]\n",
    "for i in m:\n",
    "    if i==\"nov\":\n",
    "        t11.append(i)\n",
    "print(\"nov\",len(t11))\n",
    "\n",
    "t12=[]\n",
    "for i in m:\n",
    "    if i==\"dec\":\n",
    "        t12.append(i)\n",
    "print(\"dec\",len(t12))\n",
    "\n",
    "\n",
    "\n",
    "\n"
   ]
  },
  {
   "cell_type": "code",
   "execution_count": 41,
   "id": "2ca65c08",
   "metadata": {},
   "outputs": [
    {
     "name": "stdout",
     "output_type": "stream",
     "text": [
      "anser is may\n"
     ]
    }
   ],
   "source": [
    "print(\"anser is may\")"
   ]
  },
  {
   "cell_type": "markdown",
   "id": "8ab83c5f",
   "metadata": {},
   "source": [
    "# 5 . which mode of call is giving you more result"
   ]
  },
  {
   "cell_type": "code",
   "execution_count": 43,
   "id": "dd5ce858",
   "metadata": {},
   "outputs": [],
   "source": [
    "f=dataset[\"contact\"]"
   ]
  },
  {
   "cell_type": "code",
   "execution_count": 44,
   "id": "5a2041cb",
   "metadata": {},
   "outputs": [
    {
     "name": "stdout",
     "output_type": "stream",
     "text": [
      "cellular 2896\n",
      "unknown 1324\n"
     ]
    }
   ],
   "source": [
    "t1=[]\n",
    "t2=[]\n",
    "for i in f:\n",
    "    if i==\"cellular\":\n",
    "        t1.append(i)\n",
    "print(\"cellular\",len(t1))\n",
    "for i in f:\n",
    "    if i==\"unknown\":\n",
    "        t2.append(i)\n",
    "print(\"unknown\",len(t2))\n"
   ]
  },
  {
   "cell_type": "code",
   "execution_count": 46,
   "id": "71579cae",
   "metadata": {},
   "outputs": [
    {
     "name": "stdout",
     "output_type": "stream",
     "text": [
      "cellular is the answer\n"
     ]
    }
   ],
   "source": [
    "print(\"cellular is the answer\")"
   ]
  },
  {
   "cell_type": "markdown",
   "id": "03fbb30e",
   "metadata": {},
   "source": [
    "# 6 . how many enterpeures do we have in this list "
   ]
  },
  {
   "cell_type": "code",
   "execution_count": 48,
   "id": "aace5e86",
   "metadata": {},
   "outputs": [],
   "source": [
    "e=dataset[\"job\"]"
   ]
  },
  {
   "cell_type": "code",
   "execution_count": 50,
   "id": "8d0e2c8c",
   "metadata": {},
   "outputs": [
    {
     "name": "stdout",
     "output_type": "stream",
     "text": [
      "entrepreneur 168\n"
     ]
    }
   ],
   "source": [
    "t1=[]\n",
    "for i in e :\n",
    "    if i==\"entrepreneur\":\n",
    "        t1.append(i)\n",
    "print(\"entrepreneur\",len(t1))\n"
   ]
  },
  {
   "cell_type": "markdown",
   "id": "42cbbd53",
   "metadata": {},
   "source": [
    "# 7 . how many customers do we have with negative balance "
   ]
  },
  {
   "cell_type": "code",
   "execution_count": 51,
   "id": "89a1abed",
   "metadata": {},
   "outputs": [],
   "source": [
    "n=dataset[\"balance\"]"
   ]
  },
  {
   "cell_type": "code",
   "execution_count": 53,
   "id": "eddfb350",
   "metadata": {},
   "outputs": [
    {
     "name": "stdout",
     "output_type": "stream",
     "text": [
      "customers having negative balance: 366\n"
     ]
    }
   ],
   "source": [
    "t1=[]\n",
    "for i in n:\n",
    "    if i<0:\n",
    "        t1.append(i)\n",
    "print(\"customers having negative balance:\",len(t1))"
   ]
  },
  {
   "cell_type": "markdown",
   "id": "530cd62a",
   "metadata": {},
   "source": [
    "# 8. prepare a group of data based on education level . "
   ]
  },
  {
   "cell_type": "code",
   "execution_count": 54,
   "id": "4f44836e",
   "metadata": {},
   "outputs": [],
   "source": [
    "edu=dataset[\"education\"]"
   ]
  },
  {
   "cell_type": "code",
   "execution_count": 60,
   "id": "868fc908",
   "metadata": {},
   "outputs": [
    {
     "name": "stdout",
     "output_type": "stream",
     "text": [
      "primary 678\n",
      "secondary 2306\n",
      "tertiary 1350\n",
      "unknown 187\n"
     ]
    }
   ],
   "source": [
    "t1=[]\n",
    "t2=[]\n",
    "t3=[]\n",
    "t4=[]\n",
    "for i in edu :\n",
    "    if i==\"primary\":\n",
    "        t1.append(i)\n",
    "print(\"primary\",len(t1))\n",
    "\n",
    "for i in edu :\n",
    "    if i==\"secondary\":\n",
    "        t2.append(i)\n",
    "print(\"secondary\",len(t2))\n",
    "\n",
    "for i in edu :\n",
    "    if i==\"tertiary\":\n",
    "        t3.append(i)\n",
    "print(\"tertiary\",len(t3))\n",
    "\n",
    "for i in edu :\n",
    "    if i==\"unknown\":\n",
    "        t4.append(i)\n",
    "print(\"unknown\",len(t4))\n"
   ]
  },
  {
   "cell_type": "code",
   "execution_count": 61,
   "id": "8fca9e1a",
   "metadata": {},
   "outputs": [
    {
     "data": {
      "text/plain": [
       "4521"
      ]
     },
     "execution_count": 61,
     "metadata": {},
     "output_type": "execute_result"
    }
   ],
   "source": [
    "678+2306+1350+187"
   ]
  }
 ],
 "metadata": {
  "kernelspec": {
   "display_name": "Python 3 (ipykernel)",
   "language": "python",
   "name": "python3"
  },
  "language_info": {
   "codemirror_mode": {
    "name": "ipython",
    "version": 3
   },
   "file_extension": ".py",
   "mimetype": "text/x-python",
   "name": "python",
   "nbconvert_exporter": "python",
   "pygments_lexer": "ipython3",
   "version": "3.9.7"
  }
 },
 "nbformat": 4,
 "nbformat_minor": 5
}
